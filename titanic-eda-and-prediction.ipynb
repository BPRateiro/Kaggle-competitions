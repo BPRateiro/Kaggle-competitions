{
 "cells": [
  {
   "cell_type": "markdown",
   "id": "6291af0b",
   "metadata": {
    "papermill": {
     "duration": 0.008041,
     "end_time": "2023-01-26T19:35:17.623982",
     "exception": false,
     "start_time": "2023-01-26T19:35:17.615941",
     "status": "completed"
    },
    "tags": []
   },
   "source": [
    "# Introduction\n",
    "\n",
    "This is my take on the infamous [Titanic competition](https://www.kaggle.com/competitions/titanic).\n",
    "We are given two datasets `train` and `test` containing passenger information. The goal is to achieve maximum **accuracy** while predicting if the passengers listed in `test` survived or not. Thus we have a classification problem. \n",
    "\n",
    "<div style=\"width:100%;text-align: center;\"> <img align=middle src=\"https://upload.wikimedia.org/wikipedia/commons/c/c7/Titanic_Structure.jpg\" alt=\"Heat beating\" style=\"height:300px;margin-top:1rem;margin-bottom:1rem;\"> </div>\n",
    "\n",
    "<a id=\"ToC\"></a>\n",
    "## Table of contents\n",
    "* [1. Data preparation](#1)  \n",
    "  * [1.1 Libraries and settings](#1.1)\n",
    "  * [1.2 Data reading](#1.2)\n",
    "  * [1.3 Data cleaning](#1.3)\n",
    "      * [1.3.1 Age](#1.3.1)\n",
    "      * [1.3.2 Cabin](#1.3.2)\n",
    "      * [1.3.3 Embarked](#1.3.3)\n",
    "      * [1.3.4 Fare](#1.3.4)\n",
    "* [2. Exploratory data analysis (EDA)](#2)\n",
    "* [3. Data modeling](#3)\n",
    "* [4. Conclusion](#4)"
   ]
  },
  {
   "cell_type": "markdown",
   "id": "36671c0f",
   "metadata": {
    "papermill": {
     "duration": 0.004247,
     "end_time": "2023-01-26T19:35:17.634509",
     "exception": false,
     "start_time": "2023-01-26T19:35:17.630262",
     "status": "completed"
    },
    "tags": []
   },
   "source": [
    "<a id=\"1\"></a>\n",
    "# 1. Data preparation\n",
    "[ToC](#ToC) | [Next](#1.1)\n",
    "\n",
    "In this section relevant libraries and settings used are listed, different datasets are read and missing data is handled according to a preliminary analysis.\n",
    "\n",
    "<a id=\"1.1\"></a> \n",
    "## 1.1 Libraries and settings\n",
    "[Previous](#1) | [ToC](#ToC) | [Next](#1.2)\n",
    "\n",
    "All imports and settings used throughout the study are listed in the cell below."
   ]
  },
  {
   "cell_type": "code",
   "execution_count": 1,
   "id": "81350441",
   "metadata": {
    "_cell_guid": "b1076dfc-b9ad-4769-8c92-a6c4dae69d19",
    "_uuid": "8f2839f25d086af736a60e9eeb907d3b93b6e0e5",
    "execution": {
     "iopub.execute_input": "2023-01-26T19:35:17.646103Z",
     "iopub.status.busy": "2023-01-26T19:35:17.645125Z",
     "iopub.status.idle": "2023-01-26T19:35:18.861012Z",
     "shell.execute_reply": "2023-01-26T19:35:18.859813Z"
    },
    "papermill": {
     "duration": 1.225331,
     "end_time": "2023-01-26T19:35:18.864230",
     "exception": false,
     "start_time": "2023-01-26T19:35:17.638899",
     "status": "completed"
    },
    "tags": []
   },
   "outputs": [
    {
     "name": "stdout",
     "output_type": "stream",
     "text": [
      "/kaggle/input/titanic/train.csv\n",
      "/kaggle/input/titanic/test.csv\n",
      "/kaggle/input/titanic/gender_submission.csv\n"
     ]
    }
   ],
   "source": [
    "# Data wrangling\n",
    "import numpy as np # linear algebra\n",
    "import pandas as pd # data processing, CSV file I/O (e.g. pd.read_csv)\n",
    "\n",
    "# Data visualization\n",
    "from matplotlib import pyplot as plt\n",
    "import seaborn as sns\n",
    "\n",
    "custom_params = {\n",
    "    \"axes.spines.right\": False, \n",
    "    \"axes.spines.top\": False,\n",
    "    \"patch.force_edgecolor\": True,\n",
    "}\n",
    "sns.set_theme(\n",
    "    context = \"notebook\",\n",
    "    style = 'ticks',\n",
    "    palette = 'viridis',\n",
    "    font_scale = 1.25,\n",
    "    rc = custom_params,\n",
    ")\n",
    "\n",
    "# Dataset paths\n",
    "import os\n",
    "for dirname, _, filenames in os.walk('/kaggle/input'):\n",
    "    for filename in filenames:\n",
    "        print(os.path.join(dirname, filename))"
   ]
  },
  {
   "cell_type": "markdown",
   "id": "37738cfb",
   "metadata": {
    "papermill": {
     "duration": 0.004434,
     "end_time": "2023-01-26T19:35:18.874080",
     "exception": false,
     "start_time": "2023-01-26T19:35:18.869646",
     "status": "completed"
    },
    "tags": []
   },
   "source": [
    "<a id=\"1.2\"></a> \n",
    "## 1.2 Data reading\n",
    "[Previous](#1.1) | [ToC](#ToC) | [Next](#1.3)\n",
    "\n",
    "The datasets considered in this study are:\n",
    "* `train` (from *train.csv*): training set, containing information from passengers that we know they survived;\n",
    "* `test` (from *test.csv*): test set, containing information from passengers we want to guess if they survived or not.\n",
    "\n",
    "Another dataset `gender_submission` is only included to exemplify our output format.\n",
    "\n",
    "The datasets are loaded into their respective dataframes, using their unique `PassengerId` as index.\n",
    "\n",
    "The `train` dataframe has 891 entries and 12 columns. Some of the columns (`Age`, `Cabin` and `Embarked`) have missing values that will need to be handled. The `test` dataframe contains 418 entries. As expected,`test` has the same columns as `train` except `Survived`. There are missing values in columns `Age`, `Fare` and `Cabin`.\n",
    "\n",
    "The competition documentation have data dictionaries for the columns `Survived`, `Pclass` and `Embarked`. Mapping corresponding values using sufix `x` to corresponding column name adds three columns to the `train` dataframe that will later be used to better label our data during EDA."
   ]
  },
  {
   "cell_type": "code",
   "execution_count": 2,
   "id": "6a53a27a",
   "metadata": {
    "execution": {
     "iopub.execute_input": "2023-01-26T19:35:18.885148Z",
     "iopub.status.busy": "2023-01-26T19:35:18.884727Z",
     "iopub.status.idle": "2023-01-26T19:35:18.999658Z",
     "shell.execute_reply": "2023-01-26T19:35:18.998313Z"
    },
    "papermill": {
     "duration": 0.125981,
     "end_time": "2023-01-26T19:35:19.004674",
     "exception": false,
     "start_time": "2023-01-26T19:35:18.878693",
     "status": "completed"
    },
    "tags": []
   },
   "outputs": [
    {
     "name": "stdout",
     "output_type": "stream",
     "text": [
      "'train' dataframe summary:\n",
      "Is 'train' dataframe index unique? True\n",
      "<class 'pandas.core.frame.DataFrame'>\n",
      "Int64Index: 891 entries, 1 to 891\n",
      "Data columns (total 11 columns):\n",
      " #   Column    Non-Null Count  Dtype  \n",
      "---  ------    --------------  -----  \n",
      " 0   Survived  891 non-null    int64  \n",
      " 1   Pclass    891 non-null    int64  \n",
      " 2   Name      891 non-null    object \n",
      " 3   Sex       891 non-null    object \n",
      " 4   Age       714 non-null    float64\n",
      " 5   SibSp     891 non-null    int64  \n",
      " 6   Parch     891 non-null    int64  \n",
      " 7   Ticket    891 non-null    object \n",
      " 8   Fare      891 non-null    float64\n",
      " 9   Cabin     204 non-null    object \n",
      " 10  Embarked  889 non-null    object \n",
      "dtypes: float64(2), int64(4), object(5)\n",
      "\n",
      "'test' dataframe summary:\n",
      "Is 'test' dataframe index unique? True\n",
      "<class 'pandas.core.frame.DataFrame'>\n",
      "Int64Index: 418 entries, 892 to 1309\n",
      "Data columns (total 10 columns):\n",
      " #   Column    Non-Null Count  Dtype  \n",
      "---  ------    --------------  -----  \n",
      " 0   Pclass    418 non-null    int64  \n",
      " 1   Name      418 non-null    object \n",
      " 2   Sex       418 non-null    object \n",
      " 3   Age       332 non-null    float64\n",
      " 4   SibSp     418 non-null    int64  \n",
      " 5   Parch     418 non-null    int64  \n",
      " 6   Ticket    418 non-null    object \n",
      " 7   Fare      417 non-null    float64\n",
      " 8   Cabin     91 non-null     object \n",
      " 9   Embarked  418 non-null    object \n",
      "dtypes: float64(2), int64(3), object(5)\n",
      "\n",
      "'train' dataframe:\n"
     ]
    },
    {
     "data": {
      "text/html": [
       "<div>\n",
       "<style scoped>\n",
       "    .dataframe tbody tr th:only-of-type {\n",
       "        vertical-align: middle;\n",
       "    }\n",
       "\n",
       "    .dataframe tbody tr th {\n",
       "        vertical-align: top;\n",
       "    }\n",
       "\n",
       "    .dataframe thead th {\n",
       "        text-align: right;\n",
       "    }\n",
       "</style>\n",
       "<table border=\"1\" class=\"dataframe\">\n",
       "  <thead>\n",
       "    <tr style=\"text-align: right;\">\n",
       "      <th></th>\n",
       "      <th>Survived</th>\n",
       "      <th>Pclass</th>\n",
       "      <th>Name</th>\n",
       "      <th>Sex</th>\n",
       "      <th>Age</th>\n",
       "      <th>SibSp</th>\n",
       "      <th>Parch</th>\n",
       "      <th>Ticket</th>\n",
       "      <th>Fare</th>\n",
       "      <th>Cabin</th>\n",
       "      <th>Embarked</th>\n",
       "      <th>Survived_x</th>\n",
       "      <th>Pclass_x</th>\n",
       "      <th>Embarked_x</th>\n",
       "    </tr>\n",
       "    <tr>\n",
       "      <th>PassengerId</th>\n",
       "      <th></th>\n",
       "      <th></th>\n",
       "      <th></th>\n",
       "      <th></th>\n",
       "      <th></th>\n",
       "      <th></th>\n",
       "      <th></th>\n",
       "      <th></th>\n",
       "      <th></th>\n",
       "      <th></th>\n",
       "      <th></th>\n",
       "      <th></th>\n",
       "      <th></th>\n",
       "      <th></th>\n",
       "    </tr>\n",
       "  </thead>\n",
       "  <tbody>\n",
       "    <tr>\n",
       "      <th>1</th>\n",
       "      <td>0</td>\n",
       "      <td>3</td>\n",
       "      <td>Braund, Mr. Owen Harris</td>\n",
       "      <td>male</td>\n",
       "      <td>22.0</td>\n",
       "      <td>1</td>\n",
       "      <td>0</td>\n",
       "      <td>A/5 21171</td>\n",
       "      <td>7.2500</td>\n",
       "      <td>NaN</td>\n",
       "      <td>S</td>\n",
       "      <td>Perished</td>\n",
       "      <td>3rd</td>\n",
       "      <td>Southampton</td>\n",
       "    </tr>\n",
       "    <tr>\n",
       "      <th>2</th>\n",
       "      <td>1</td>\n",
       "      <td>1</td>\n",
       "      <td>Cumings, Mrs. John Bradley (Florence Briggs Th...</td>\n",
       "      <td>female</td>\n",
       "      <td>38.0</td>\n",
       "      <td>1</td>\n",
       "      <td>0</td>\n",
       "      <td>PC 17599</td>\n",
       "      <td>71.2833</td>\n",
       "      <td>C85</td>\n",
       "      <td>C</td>\n",
       "      <td>Survived</td>\n",
       "      <td>1st</td>\n",
       "      <td>Cherbourg</td>\n",
       "    </tr>\n",
       "    <tr>\n",
       "      <th>3</th>\n",
       "      <td>1</td>\n",
       "      <td>3</td>\n",
       "      <td>Heikkinen, Miss. Laina</td>\n",
       "      <td>female</td>\n",
       "      <td>26.0</td>\n",
       "      <td>0</td>\n",
       "      <td>0</td>\n",
       "      <td>STON/O2. 3101282</td>\n",
       "      <td>7.9250</td>\n",
       "      <td>NaN</td>\n",
       "      <td>S</td>\n",
       "      <td>Survived</td>\n",
       "      <td>3rd</td>\n",
       "      <td>Southampton</td>\n",
       "    </tr>\n",
       "    <tr>\n",
       "      <th>4</th>\n",
       "      <td>1</td>\n",
       "      <td>1</td>\n",
       "      <td>Futrelle, Mrs. Jacques Heath (Lily May Peel)</td>\n",
       "      <td>female</td>\n",
       "      <td>35.0</td>\n",
       "      <td>1</td>\n",
       "      <td>0</td>\n",
       "      <td>113803</td>\n",
       "      <td>53.1000</td>\n",
       "      <td>C123</td>\n",
       "      <td>S</td>\n",
       "      <td>Survived</td>\n",
       "      <td>1st</td>\n",
       "      <td>Southampton</td>\n",
       "    </tr>\n",
       "    <tr>\n",
       "      <th>5</th>\n",
       "      <td>0</td>\n",
       "      <td>3</td>\n",
       "      <td>Allen, Mr. William Henry</td>\n",
       "      <td>male</td>\n",
       "      <td>35.0</td>\n",
       "      <td>0</td>\n",
       "      <td>0</td>\n",
       "      <td>373450</td>\n",
       "      <td>8.0500</td>\n",
       "      <td>NaN</td>\n",
       "      <td>S</td>\n",
       "      <td>Perished</td>\n",
       "      <td>3rd</td>\n",
       "      <td>Southampton</td>\n",
       "    </tr>\n",
       "  </tbody>\n",
       "</table>\n",
       "</div>"
      ],
      "text/plain": [
       "             Survived  Pclass  \\\n",
       "PassengerId                     \n",
       "1                   0       3   \n",
       "2                   1       1   \n",
       "3                   1       3   \n",
       "4                   1       1   \n",
       "5                   0       3   \n",
       "\n",
       "                                                          Name     Sex   Age  \\\n",
       "PassengerId                                                                    \n",
       "1                                      Braund, Mr. Owen Harris    male  22.0   \n",
       "2            Cumings, Mrs. John Bradley (Florence Briggs Th...  female  38.0   \n",
       "3                                       Heikkinen, Miss. Laina  female  26.0   \n",
       "4                 Futrelle, Mrs. Jacques Heath (Lily May Peel)  female  35.0   \n",
       "5                                     Allen, Mr. William Henry    male  35.0   \n",
       "\n",
       "             SibSp  Parch            Ticket     Fare Cabin Embarked  \\\n",
       "PassengerId                                                           \n",
       "1                1      0         A/5 21171   7.2500   NaN        S   \n",
       "2                1      0          PC 17599  71.2833   C85        C   \n",
       "3                0      0  STON/O2. 3101282   7.9250   NaN        S   \n",
       "4                1      0            113803  53.1000  C123        S   \n",
       "5                0      0            373450   8.0500   NaN        S   \n",
       "\n",
       "            Survived_x Pclass_x   Embarked_x  \n",
       "PassengerId                                   \n",
       "1             Perished      3rd  Southampton  \n",
       "2             Survived      1st    Cherbourg  \n",
       "3             Survived      3rd  Southampton  \n",
       "4             Survived      1st  Southampton  \n",
       "5             Perished      3rd  Southampton  "
      ]
     },
     "execution_count": 2,
     "metadata": {},
     "output_type": "execute_result"
    }
   ],
   "source": [
    "train = pd.read_csv('/kaggle/input/titanic/train.csv', index_col='PassengerId')\n",
    "train.name = 'train'\n",
    "\n",
    "test = pd.read_csv('/kaggle/input/titanic/test.csv', index_col='PassengerId')\n",
    "test.name = 'test'\n",
    "\n",
    "gender_submission = pd.read_csv('/kaggle/input/titanic/gender_submission.csv', index_col='PassengerId')\n",
    "gender_submission.name = 'gender submission'\n",
    "\n",
    "both = [train, test] # Useful when needing to call or transform both datasets\n",
    "\n",
    "def dataframe_summary():\n",
    "    \"Prints a summary for both datasets\"\n",
    "    for df in both:\n",
    "        print(f\"'{df.name}' dataframe summary:\")\n",
    "        print(f\"Is '{df.name}' dataframe index unique? {df.index.is_unique}\")\n",
    "        df.info(memory_usage=False)\n",
    "        print('\\n')\n",
    "dataframe_summary()\n",
    "    \n",
    "# Data dictionaries, useful when visualizing data\n",
    "data_dictionaries = {\n",
    "    'Survived': {0:'Perished', 1:'Survived'},\n",
    "    'Pclass': {1:'1st', 2:'2nd', 3:'3rd'},\n",
    "    'Embarked': {'C':'Cherbourg', 'Q':'Queenstown', 'S':'Southampton'}\n",
    "}\n",
    "\n",
    "# Apply data dictionary to 'train' to facilitate understanding\n",
    "for column, dictionary in data_dictionaries.items():\n",
    "    train[column+'_x'] = train.loc[~train[column].isnull(), column].apply(lambda x: dictionary[x])\n",
    "    \n",
    "print(\"'train' dataframe:\")\n",
    "train.head()"
   ]
  },
  {
   "cell_type": "markdown",
   "id": "2e098124",
   "metadata": {
    "papermill": {
     "duration": 0.004907,
     "end_time": "2023-01-26T19:35:19.018085",
     "exception": false,
     "start_time": "2023-01-26T19:35:19.013178",
     "status": "completed"
    },
    "tags": []
   },
   "source": [
    "<a id=\"1.3\"></a> \n",
    "## 1.3 Data cleaning\n",
    "[Previous](#1.2) | [ToC](#ToC) | [Next](#1.3.1)\n",
    "\n",
    "We have four columns that have missing values in either dataframe. For each column we will make a preliminary exploration and decide how we will handle these values in both dataframes. We will use solely information from `train` dataframe to avoid data leakage.\n",
    "\n",
    "The cell below contains some helper functions that will help us summarize data, replace missing values and plot histograms and boxplots during data cleaning stage."
   ]
  },
  {
   "cell_type": "code",
   "execution_count": 3,
   "id": "f4f746eb",
   "metadata": {
    "execution": {
     "iopub.execute_input": "2023-01-26T19:35:19.032032Z",
     "iopub.status.busy": "2023-01-26T19:35:19.031190Z",
     "iopub.status.idle": "2023-01-26T19:35:19.062097Z",
     "shell.execute_reply": "2023-01-26T19:35:19.060094Z"
    },
    "papermill": {
     "duration": 0.043151,
     "end_time": "2023-01-26T19:35:19.066487",
     "exception": false,
     "start_time": "2023-01-26T19:35:19.023336",
     "status": "completed"
    },
    "tags": []
   },
   "outputs": [],
   "source": [
    "def summarize(column_name: str) -> None:\n",
    "    \"\"\"\n",
    "    Given a column name, print column null count for both dataframes.\n",
    "    Then give a statistical summary for this column on train dataframe\n",
    "    \"\"\"\n",
    "    for df in both:\n",
    "        print(\n",
    "            f\"There are {df[column_name].isnull().sum()}/{df.shape[0]} \" \n",
    "            f\"null values in column '{column_name}' of '{df.name}' dataframe.\"\n",
    "        )\n",
    "    print(f\"\\nStatistical summary for '{column_name}' series in 'train' dataframe:\")\n",
    "    print(train[column_name].describe(), '\\n')\n",
    "    \n",
    "def histogram_and_boxplot(column_name: str, ceiling=float('inf')) -> None:\n",
    "    \"\"\"\n",
    "    Given a column name, return a grid showing a histogram for total count distribution\n",
    "    and a boxplot highlighting median and outliers for passengers divided by survival.\n",
    "    \n",
    "    If a custom ceiling value is given, our plots will consider the fraction of the data\n",
    "    up to ceiling value.\n",
    "    \"\"\"\n",
    "    # Set figure grid\n",
    "    fig, axes = plt.subplots(\n",
    "        nrows = 2,\n",
    "        ncols = 1, \n",
    "        sharex = True, \n",
    "        figsize = (10,6),\n",
    "        gridspec_kw = dict(height_ratios=[2,1])\n",
    "    )\n",
    "    # Set suptitle to right align and position it in the top right corner\n",
    "    title = f\"{column_name} distribution in training data\"\n",
    "    title += f' (<= {ceiling})' if ceiling != float('inf') else ''\n",
    "    fig.suptitle(\n",
    "        title,\n",
    "        ha = 'right',\n",
    "        x = 0.95,\n",
    "        y = 1,\n",
    "    )\n",
    "    if ceiling != float('inf'):\n",
    "        plt.setp(axes, xlim =(0, ceiling))\n",
    "        \n",
    "    # Use tight layout to plot more cleanly\n",
    "    fig.tight_layout()\n",
    "    fig.subplots_adjust(top=1)\n",
    "    \n",
    "    # Get non NA points for column_name\n",
    "    train_dropna = train[train[column_name].notnull()]\n",
    "    \n",
    "    # Select custom pallete, width and color for lines\n",
    "    palette = dict(Perished='lightcoral', Survived='lightgreen')\n",
    "    edgecolor = 'k'\n",
    "    linewidth = 1\n",
    "    \n",
    "    # Boxplot\n",
    "    boxes = sns.boxplot(\n",
    "        data = train_dropna,\n",
    "        x = column_name,\n",
    "        y = 'Survived_x',\n",
    "        hue = 'Survived_x',\n",
    "        ax = axes[1],\n",
    "        saturation = 1,\n",
    "        palette = palette,\n",
    "        linewidth = linewidth,\n",
    "        dodge = False,\n",
    "        boxprops = dict(edgecolor=edgecolor),\n",
    "        medianprops = dict(color=edgecolor),\n",
    "        whiskerprops = dict(color=edgecolor),\n",
    "        flierprops = dict(markerfacecolor=edgecolor),\n",
    "        capprops = dict(color=edgecolor),\n",
    "    )\n",
    "    # Boxpot style options\n",
    "    axes[1].get_xaxis().set_visible(False)\n",
    "    axes[1].get_yaxis().set_visible(False)\n",
    "    axes[1].spines[['left', 'bottom']].set_visible(False)\n",
    "    axes[1].legend([],[],frameon=False) # Remove legend\n",
    "    \n",
    "    # Annotate median value according to survivability\n",
    "    medians = train_dropna.groupby('Survived_x')[column_name].median()\n",
    "    for i in range(len(medians)):\n",
    "        boxes.annotate(\n",
    "            f' {medians[i]:.1f}',\n",
    "            xy = (medians[i], i),\n",
    "            ha = 'left',\n",
    "            va = 'center',\n",
    "        )    \n",
    "    # Get legend information to be transported to histogram and format its line\n",
    "    handles, labels = axes[1].get_legend_handles_labels()\n",
    "    for handle in handles:\n",
    "        handle.set_edgecolor(edgecolor)\n",
    "        handle.set_linewidth(1)\n",
    "    \n",
    "    # Histogram plot\n",
    "    sns.histplot(\n",
    "        data = train_dropna,\n",
    "        x = column_name,\n",
    "        hue = 'Survived_x',\n",
    "        multiple = 'stack',\n",
    "        stat = 'count',\n",
    "        ax = axes[0],\n",
    "        edgecolor = edgecolor,\n",
    "        alpha = 1,\n",
    "        palette = palette,\n",
    "    )\n",
    "    axes[0].get_yaxis().set_visible(False)\n",
    "    axes[0].spines[['left']].set_visible(False)\n",
    "    axes[0].tick_params(labelbottom=True)\n",
    "    \n",
    "    # Annotate median on histogram\n",
    "    median = train_dropna[column_name].median()\n",
    "    axes[0].axvline(\n",
    "        x = median,\n",
    "        c = edgecolor,\n",
    "        label = 'Median',\n",
    "        ls = 'dashed',\n",
    "        lw = 1.25,\n",
    "        ymax = 0.95,\n",
    "    )\n",
    "    axes[0].text(\n",
    "        x = median,\n",
    "        y = 0.95,\n",
    "        s = f' {median:.1f}',\n",
    "        ha = 'left',\n",
    "        va = 'top',\n",
    "        transform=axes[0].get_xaxis_transform(),\n",
    "    )\n",
    "    # Get median line information and updata label\n",
    "    h, l = axes[0].get_legend_handles_labels()\n",
    "    handles.extend(h)\n",
    "    labels.extend(l)\n",
    "    axes[0].legend(\n",
    "        handles, labels,\n",
    "        bbox_to_anchor = (1, 0.9), \n",
    "        frameon = False,\n",
    "        edgecolor = edgecolor,\n",
    "    )\n",
    "    fig.show()\n",
    "    \n",
    "def replace_na_by_median(column_name:str) -> None:\n",
    "    \"Replaces missing values in given column using 'train' median.\"\n",
    "    for df in both:\n",
    "        df.loc[df[column_name].isnull(), [column_name]] = train[column_name].median()"
   ]
  },
  {
   "cell_type": "markdown",
   "id": "b65973a3",
   "metadata": {
    "papermill": {
     "duration": 0.007526,
     "end_time": "2023-01-26T19:35:19.080775",
     "exception": false,
     "start_time": "2023-01-26T19:35:19.073249",
     "status": "completed"
    },
    "tags": []
   },
   "source": [
    "<a id=\"1.3.1\"></a>\n",
    "### 1.3.1 Age\n",
    "[Previous](#1.3) | [ToC](#ToC) | [Next](#1.3.2)\n",
    "\n",
    "In order to study `Age` distribution we consider its summary statistics and two plots. The first plot is a stacked histogram and the second is a boxplot. It might be interesting to evaluate how `Age` is distributed if we were to divided the entries into groups of those who survived and those who perished.\n",
    "\n",
    "The `Age` stacked histogram shows a roughly bimodal normal distribution slightly right-skewed.\n",
    "The boxplot evidentiate that the median age remains 28 regardless of the survivability group. It also highlights the outliers are concentrated among the oldest passengers for each group.\n",
    "\n",
    "In order to preserve the distribution shape, we can use the `train` median as a fill value for missing `Age` values. We are using the median and not the mean because the median is a more reliable center measure when the distribution is skewed."
   ]
  },
  {
   "cell_type": "code",
   "execution_count": 4,
   "id": "a75e25a3",
   "metadata": {
    "execution": {
     "iopub.execute_input": "2023-01-26T19:35:19.092943Z",
     "iopub.status.busy": "2023-01-26T19:35:19.092503Z",
     "iopub.status.idle": "2023-01-26T19:35:19.625918Z",
     "shell.execute_reply": "2023-01-26T19:35:19.624780Z"
    },
    "papermill": {
     "duration": 0.542543,
     "end_time": "2023-01-26T19:35:19.628573",
     "exception": false,
     "start_time": "2023-01-26T19:35:19.086030",
     "status": "completed"
    },
    "tags": []
   },
   "outputs": [
    {
     "name": "stdout",
     "output_type": "stream",
     "text": [
      "There are 177/891 null values in column 'Age' of 'train' dataframe.\n",
      "There are 86/418 null values in column 'Age' of 'test' dataframe.\n",
      "\n",
      "Statistical summary for 'Age' series in 'train' dataframe:\n",
      "count    714.000000\n",
      "mean      29.699118\n",
      "std       14.526497\n",
      "min        0.420000\n",
      "25%       20.125000\n",
      "50%       28.000000\n",
      "75%       38.000000\n",
      "max       80.000000\n",
      "Name: Age, dtype: float64 \n",
      "\n"
     ]
    },
    {
     "data": {
      "image/png": "[encoded data removed]",
      "text/plain": [
       "<Figure size 720x432 with 2 Axes>"
      ]
     },
     "metadata": {},
     "output_type": "display_data"
    }
   ],
   "source": [
    "summarize('Age')\n",
    "histogram_and_boxplot('Age')\n",
    "replace_na_by_median('Age')"
   ]
  },
  {
   "cell_type": "markdown",
   "id": "5b5d8c76",
   "metadata": {
    "papermill": {
     "duration": 0.005325,
     "end_time": "2023-01-26T19:35:19.639633",
     "exception": false,
     "start_time": "2023-01-26T19:35:19.634308",
     "status": "completed"
    },
    "tags": []
   },
   "source": [
    "<a id=\"1.3.2\"></a>\n",
    "### 1.3.2 Cabin\n",
    "[Previous](#1.3.1) | [ToC](#ToC) | [Next](#1.3.3)\n",
    "\n",
    "The majority of values in `Cabin` column is missing in both dataframes. Two observations can be made:\n",
    "1. If we grouped missing values in a category (say `missing`), this category would represent the majority of cases. \n",
    "2. Looking at the frequency of unique non-missing values we see they are too numerous and each have a very small frequency. The most frequent unique values have a frequency of 4.\n",
    "\n",
    "An approach could be consider missing values as a category and transform `Cabin` into frequncy categories (frequent/infrequent). But observations 1 and 2 combined would result in a very biased and noninformative feature.\n",
    "\n",
    "Thus, we opt not to include `Cabin` information in our study."
   ]
  },
  {
   "cell_type": "code",
   "execution_count": 5,
   "id": "3cf62e28",
   "metadata": {
    "execution": {
     "iopub.execute_input": "2023-01-26T19:35:19.652690Z",
     "iopub.status.busy": "2023-01-26T19:35:19.651717Z",
     "iopub.status.idle": "2023-01-26T19:35:19.662680Z",
     "shell.execute_reply": "2023-01-26T19:35:19.661480Z"
    },
    "papermill": {
     "duration": 0.020224,
     "end_time": "2023-01-26T19:35:19.665239",
     "exception": false,
     "start_time": "2023-01-26T19:35:19.645015",
     "status": "completed"
    },
    "tags": []
   },
   "outputs": [
    {
     "name": "stdout",
     "output_type": "stream",
     "text": [
      "There are 687/891 null values in column 'Cabin' of 'train' dataframe.\n",
      "There are 327/418 null values in column 'Cabin' of 'test' dataframe.\n",
      "\n",
      "Statistical summary for 'Cabin' series in 'train' dataframe:\n",
      "count         204\n",
      "unique        147\n",
      "top       B96 B98\n",
      "freq            4\n",
      "Name: Cabin, dtype: object \n",
      "\n"
     ]
    }
   ],
   "source": [
    "summarize('Cabin')\n",
    "for df in both:\n",
    "    df.drop('Cabin', axis='columns', inplace=True)"
   ]
  },
  {
   "cell_type": "markdown",
   "id": "8d4c1f84",
   "metadata": {
    "papermill": {
     "duration": 0.005376,
     "end_time": "2023-01-26T19:35:19.676623",
     "exception": false,
     "start_time": "2023-01-26T19:35:19.671247",
     "status": "completed"
    },
    "tags": []
   },
   "source": [
    "<a id=\"1.3.3\"></a>\n",
    "### 1.3.3 Embarked\n",
    "[Previous](#1.3.2) | [ToC](#ToC) | [Next](#1.3.4)\n",
    "\n",
    "There are only 2 missing values in `train` dataframe. As this is a very small portion of data, we choose to ignore these two entries moving forward."
   ]
  },
  {
   "cell_type": "code",
   "execution_count": 6,
   "id": "2827755d",
   "metadata": {
    "execution": {
     "iopub.execute_input": "2023-01-26T19:35:19.689393Z",
     "iopub.status.busy": "2023-01-26T19:35:19.689010Z",
     "iopub.status.idle": "2023-01-26T19:35:19.701115Z",
     "shell.execute_reply": "2023-01-26T19:35:19.699824Z"
    },
    "papermill": {
     "duration": 0.022075,
     "end_time": "2023-01-26T19:35:19.704278",
     "exception": false,
     "start_time": "2023-01-26T19:35:19.682203",
     "status": "completed"
    },
    "tags": []
   },
   "outputs": [
    {
     "name": "stdout",
     "output_type": "stream",
     "text": [
      "There are 2/891 null values in column 'Embarked' of 'train' dataframe.\n",
      "There are 0/418 null values in column 'Embarked' of 'test' dataframe.\n",
      "\n",
      "Statistical summary for 'Embarked' series in 'train' dataframe:\n",
      "count     889\n",
      "unique      3\n",
      "top         S\n",
      "freq      644\n",
      "Name: Embarked, dtype: object \n",
      "\n"
     ]
    }
   ],
   "source": [
    "summarize('Embarked')\n",
    "train.dropna(subset=['Embarked'], inplace=True)"
   ]
  },
  {
   "cell_type": "markdown",
   "id": "051b0a80",
   "metadata": {
    "papermill": {
     "duration": 0.005553,
     "end_time": "2023-01-26T19:35:19.716716",
     "exception": false,
     "start_time": "2023-01-26T19:35:19.711163",
     "status": "completed"
    },
    "tags": []
   },
   "source": [
    "<a id=\"1.3.4\"></a>\n",
    "### 1.3.4 Fare\n",
    "[Previous](#1.3.3) | [ToC](#ToC) | [Next](#2)\n",
    "\n",
    "There's a single missing `Fare` value in `test` dataframe. Despite the maximum `Fare` value being 512, in order to better analyse the distribution shape, we opt to partialy plot fares up to 125. We have outliers going up to 512, but our interval of interest concentrates all major .\n",
    "\n",
    "The partial `Fare` stacked histogram shows a unimodal distribution heavily right-skewed.\n",
    "The boxplot evidentiate that the distribution of passengers who perished compared to those who survived have a smaller median and a more concentrated IQR.\n",
    "\n",
    "We will treat the missing `Fare` value in `test` as we did for the missing `Age` values, replacing missing values with the median of all passengers."
   ]
  },
  {
   "cell_type": "code",
   "execution_count": 7,
   "id": "f6f7b8ae",
   "metadata": {
    "execution": {
     "iopub.execute_input": "2023-01-26T19:35:19.730492Z",
     "iopub.status.busy": "2023-01-26T19:35:19.729858Z",
     "iopub.status.idle": "2023-01-26T19:35:20.615871Z",
     "shell.execute_reply": "2023-01-26T19:35:20.614872Z"
    },
    "papermill": {
     "duration": 0.895727,
     "end_time": "2023-01-26T19:35:20.618139",
     "exception": false,
     "start_time": "2023-01-26T19:35:19.722412",
     "status": "completed"
    },
    "tags": []
   },
   "outputs": [
    {
     "name": "stdout",
     "output_type": "stream",
     "text": [
      "There are 0/889 null values in column 'Fare' of 'train' dataframe.\n",
      "There are 1/418 null values in column 'Fare' of 'test' dataframe.\n",
      "\n",
      "Statistical summary for 'Fare' series in 'train' dataframe:\n",
      "count    889.000000\n",
      "mean      32.096681\n",
      "std       49.697504\n",
      "min        0.000000\n",
      "25%        7.895800\n",
      "50%       14.454200\n",
      "75%       31.000000\n",
      "max      512.329200\n",
      "Name: Fare, dtype: float64 \n",
      "\n"
     ]
    },
    {
     "data": {
      "image/png": "[encoded data removed]",
      "text/plain": [
       "<Figure size 720x432 with 2 Axes>"
      ]
     },
     "metadata": {},
     "output_type": "display_data"
    }
   ],
   "source": [
    "summarize('Fare')\n",
    "histogram_and_boxplot('Fare', 125)\n",
    "replace_na_by_median('Fare')"
   ]
  },
  {
   "cell_type": "markdown",
   "id": "dafc49f8",
   "metadata": {
    "papermill": {
     "duration": 0.006037,
     "end_time": "2023-01-26T19:35:20.630854",
     "exception": false,
     "start_time": "2023-01-26T19:35:20.624817",
     "status": "completed"
    },
    "tags": []
   },
   "source": [
    "<a id=\"2\"></a>\n",
    "# 2. Exploratory data analysis (EDA)\n",
    "[Previous](#1.3.4) | [ToC](#ToC) | [Next](#3)\n",
    "\n",
    "WIP"
   ]
  },
  {
   "cell_type": "markdown",
   "id": "8b4e942b",
   "metadata": {
    "papermill": {
     "duration": 0.005995,
     "end_time": "2023-01-26T19:35:20.643337",
     "exception": false,
     "start_time": "2023-01-26T19:35:20.637342",
     "status": "completed"
    },
    "tags": []
   },
   "source": [
    "<a id=\"3\"></a>\n",
    "# 3. Data modeling\n",
    "[Previous](#2) | [ToC](#ToC) | [Next](#4)\n",
    "\n",
    "WIP"
   ]
  },
  {
   "cell_type": "markdown",
   "id": "80720021",
   "metadata": {
    "papermill": {
     "duration": 0.005883,
     "end_time": "2023-01-26T19:35:20.655656",
     "exception": false,
     "start_time": "2023-01-26T19:35:20.649773",
     "status": "completed"
    },
    "tags": []
   },
   "source": [
    "<a id=\"4\"></a>\n",
    "# 4. Conclusion\n",
    "[Previous](#3) | [ToC](#ToC) | [Next](#4)\n",
    "\n",
    "WIP"
   ]
  }
 ],
 "metadata": {
  "kernelspec": {
   "display_name": "Python 3",
   "language": "python",
   "name": "python3"
  },
  "language_info": {
   "codemirror_mode": {
    "name": "ipython",
    "version": 3
   },
   "file_extension": ".py",
   "mimetype": "text/x-python",
   "name": "python",
   "nbconvert_exporter": "python",
   "pygments_lexer": "ipython3",
   "version": "3.7.12"
  },
  "papermill": {
   "default_parameters": {},
   "duration": 13.279313,
   "end_time": "2023-01-26T19:35:21.383869",
   "environment_variables": {},
   "exception": null,
   "input_path": "__notebook__.ipynb",
   "output_path": "__notebook__.ipynb",
   "parameters": {},
   "start_time": "2023-01-26T19:35:08.104556",
   "version": "2.3.4"
  }
 },
 "nbformat": 4,
 "nbformat_minor": 5
}
